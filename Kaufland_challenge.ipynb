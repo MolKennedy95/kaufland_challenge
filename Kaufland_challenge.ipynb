{
 "cells": [
  {
   "cell_type": "markdown",
   "metadata": {},
   "source": [
    "This notebook creates 10 dummy files with an integer in each line. These have a structure of text_file*.txt where * is the file number. The following code converts this to text files with the structure of (number, number of repeats). Both a serial and parallelised version of this process is presented. Finally, the converted text files are read and combined to give an output in the file \"out_file.txt\" in the form [...,...,...,...] as requested. This process is done sequentially as for a write to be done to file information from all of the input files is required for correct sequential outputs (although the writing of the same number to file repeatedly could be done in parallel if required). Line by line reading of files is done thoughout to minimize memory usage."
   ]
  },
  {
   "cell_type": "code",
   "execution_count": 65,
   "metadata": {},
   "outputs": [],
   "source": [
    "##Create Dummy Text Files\n",
    "from random import randrange\n",
    "import numpy as np\n",
    "\n",
    "number_of_files = 10\n",
    "\n",
    "for i in range(number_of_files):\n",
    "    number_of_rows = randrange(50)\n",
    "    text_file = open(\"text_file\"+str(i)+\".txt\", \"w\")\n",
    "    text_file.write(\"\") #clear file\n",
    "    text_file = open(\"text_file\"+str(i)+\".txt\", \"a\")\n",
    "    \n",
    "    numbers = []\n",
    "    \n",
    "    for j in range(number_of_rows):\n",
    "        numbers.append(randrange(70))\n",
    "    numbers.sort()\n",
    "    for j in range(number_of_rows):\n",
    "        text_file.write(str(numbers[j])+\"\\n\")\n",
    "    text_file.close()"
   ]
  },
  {
   "cell_type": "markdown",
   "metadata": {},
   "source": [
    "Convert strings of numbers in each file into new files with (number, number of repeats) style to minimize memory usage and for easier later processing.\n",
    "Read in files line by line to minimize memory usage.\n",
    "Simple serial version."
   ]
  },
  {
   "cell_type": "code",
   "execution_count": 66,
   "metadata": {},
   "outputs": [],
   "source": [
    "for i in range(number_of_files):  \n",
    "    text_file_counted = open(\"text_file_counted\"+str(i)+\".txt\", \"w\")\n",
    "    text_file_counted.write(\"\")\n",
    "    text_file_counted.close()\n",
    "    text_file_counted = open(\"text_file_counted\"+str(i)+\".txt\", \"a\")\n",
    "    \n",
    "    count_number = []\n",
    "    current_number = []\n",
    "    flag = 0 \n",
    "    with open(\"text_file\"+str(i)+\".txt\") as f:\n",
    "        for line in f:\n",
    "            input_number=line.strip()\n",
    "\n",
    "            if flag==0:\n",
    "                current_number=input_number\n",
    "                count_number=0\n",
    "                flag=1\n",
    "\n",
    "            if input_number==current_number:\n",
    "                count_number+=1    \n",
    "            else:\n",
    "                text_file_counted.write(str(current_number)+\",\"+str(count_number)+\"\\n\")\n",
    "                current_number = input_number\n",
    "                count_number = 1\n",
    "\n",
    "    text_file_counted.write(str(current_number)+\",\"+str(count_number)+\"\\n\")\n",
    "    text_file_counted.close()\n",
    "\n",
    "        \n",
    "  \n",
    "\n"
   ]
  },
  {
   "cell_type": "markdown",
   "metadata": {},
   "source": [
    "Convert strings of numbers in each file into new files with (number, number of repeats) style to minimize memory usage and for easier later processing.\n",
    "Read in files line by line to minimize memory usage.\n",
    "Parallel version with each file being independently converted."
   ]
  },
  {
   "cell_type": "code",
   "execution_count": 67,
   "metadata": {},
   "outputs": [
    {
     "name": "stderr",
     "output_type": "stream",
     "text": [
      "[Parallel(n_jobs=-1)]: Using backend ThreadingBackend with 12 concurrent workers.\n",
      "[Parallel(n_jobs=-1)]: Done  10 out of  10 | elapsed:    0.0s finished\n"
     ]
    }
   ],
   "source": [
    "from joblib import Parallel, delayed\n",
    "\n",
    "def read_files(i):\n",
    "    text_file_counted = open(\"text_file_counted\"+str(i)+\".txt\", \"w\")\n",
    "    text_file_counted.write(\"\")\n",
    "    text_file_counted.close()\n",
    "    text_file_counted = open(\"text_file_counted\"+str(i)+\".txt\", \"a\")\n",
    "\n",
    "    count_number = []\n",
    "    current_number = []\n",
    "    \n",
    "    flag = 0 \n",
    "    with open(\"text_file\"+str(i)+\".txt\") as f:\n",
    "        for line in f:\n",
    "            input_number=line.strip()\n",
    "\n",
    "            if flag==0:\n",
    "                current_number=input_number\n",
    "                count_number=0\n",
    "                flag=1\n",
    "\n",
    "            if input_number==current_number:\n",
    "                count_number+=1    \n",
    "            else:\n",
    "                text_file_counted.write(str(current_number)+\",\"+str(count_number)+\"\\n\")\n",
    "                current_number = input_number\n",
    "                count_number = 1\n",
    "    if flag ==1:\n",
    "        text_file_counted.write(str(current_number)+\",\"+str(count_number)+\"\\n\")\n",
    "        text_file_counted.close()\n",
    "    \n",
    "file_numbers_par = range(number_of_files)\n",
    "\n",
    "out = Parallel(n_jobs=-1, verbose=1, backend=\"threading\")(\n",
    "             map(delayed(read_files), file_numbers_par))"
   ]
  },
  {
   "cell_type": "markdown",
   "metadata": {},
   "source": [
    "Reads in the converted text files and writes the outputs to file in a memory efficient way. This is serialised as information is required from each file and overhead to high to make parallisation worthwhile. The end of files is dealt with by setting the number in the array to a very large number that is larger than the largest in the input data under the variable \"large number\". "
   ]
  },
  {
   "cell_type": "code",
   "execution_count": 68,
   "metadata": {
    "scrolled": true
   },
   "outputs": [],
   "source": [
    "text_file_counted_list = []\n",
    "large_number = 1000000\n",
    "#number_of_files = 2\n",
    "for i in range(number_of_files):\n",
    "    text_file_counted_list.append(open(\"text_file_counted\"+str(i)+\".txt\", \"r\"))\n",
    "    \n",
    "out_file = open(\"out_file.txt\", \"w\")\n",
    "out_file.write(\"\") #Clear file\n",
    "out_file.close()\n",
    "out_file = open(\"out_file.txt\", \"a\")\n",
    "current = 0\n",
    "current_numbers = []\n",
    "for i in range(number_of_files):\n",
    "    temp=next(text_file_counted_list[i], \"end\") #go line by line through file to minimize memory usage\n",
    "    if temp == \"end\":\n",
    "        current_numbers.append([large_number, 0])\n",
    "    else:\n",
    "        current_numbers.append(list(map(int,temp.strip().split(','))))  \n",
    "        \n",
    "\n",
    "current_numbers = np.array(current_numbers)    \n",
    "min_val = np.min(current_numbers[:,0])\n",
    "min_val_arg = np.argmin(current_numbers[:,0])\n",
    "\n",
    "current_number_total = 0\n",
    "current_number_out =  current_numbers[min_val_arg,0]\n",
    "flag = 0\n",
    "while np.sum(current_numbers[:,1]>0): #when input file finished the number is set to a very large number and the count of the number is set to 0\n",
    "    #so total of second column will be 0 when all input files have been read\n",
    "    \n",
    "    min_val = np.min(current_numbers[:,0])\n",
    "    min_val_arg = np.argmin(current_numbers[:,0])\n",
    "    if current_numbers[min_val_arg,0]==current_number_out:\n",
    "        current_number_total += current_numbers[min_val_arg,1]\n",
    "        temp=next(text_file_counted_list[min_val_arg], \"end\") #go line by line through file to minimize memory usage\n",
    "        if temp == \"end\":\n",
    "            current_numbers[min_val_arg,:] = np.array([large_number, 0])\n",
    "        else:\n",
    "            current_numbers[min_val_arg,:] = list(map(int,temp.strip().split(',')))\n",
    "\n",
    "    else:\n",
    "        for i in range(current_number_total):\n",
    "            if flag ==0:\n",
    "                out_file.write(str(current_number_out))\n",
    "                flag=1\n",
    "            else:\n",
    "                out_file.write(\",\"+str(current_number_out))\n",
    "        current_number_out = current_numbers[min_val_arg,0]\n",
    "        current_number_total=0\n",
    "        \n",
    "for i in range(current_number_total):\n",
    "    if flag ==0:\n",
    "        out_file.write(str(current_number_out))\n",
    "        flag=1\n",
    "    else:\n",
    "        out_file.write(\",\"+str(current_number_out))\n",
    "out_file.close()        "
   ]
  },
  {
   "cell_type": "code",
   "execution_count": null,
   "metadata": {},
   "outputs": [],
   "source": []
  },
  {
   "cell_type": "code",
   "execution_count": null,
   "metadata": {},
   "outputs": [],
   "source": []
  }
 ],
 "metadata": {
  "kernelspec": {
   "display_name": "Python 3",
   "language": "python",
   "name": "python3"
  },
  "language_info": {
   "codemirror_mode": {
    "name": "ipython",
    "version": 3
   },
   "file_extension": ".py",
   "mimetype": "text/x-python",
   "name": "python",
   "nbconvert_exporter": "python",
   "pygments_lexer": "ipython3",
   "version": "3.8.3"
  }
 },
 "nbformat": 4,
 "nbformat_minor": 4
}
